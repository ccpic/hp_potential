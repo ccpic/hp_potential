{
 "cells": [
  {
   "cell_type": "code",
   "execution_count": 28,
   "metadata": {},
   "outputs": [],
   "source": [
    "import importlib\r\n",
    "import sys\r\n",
    "import numpy as np\r\n",
    "import pandas as pd\r\n",
    "from dataclass import Potential\r\n",
    "from data_prepare import prepare_data\r\n",
    "'''以下两个语句为了jupyter notebook能实时应用dataclass文件的变化'''\r\n",
    "importlib.reload(sys.modules['dataclass'])\r\n",
    "from dataclass import Potential # 没有此句会报错super(type, obj): obj must be an instance or subtype of type\r\n",
    "\r\n",
    "df = prepare_data()\r\n",
    "province= \"浙江\"\r\n",
    "df = df[df[\"省份\"]==province]\r\n",
    "\r\n",
    "pt_total = Potential(df, name=province+\"城市医院整体市场\", savepath=\"./plots/\"+province+\"/\")\r\n",
    "pt_hp = Potential(df[df[\"医院类型\"] == \"公立医院\"], name=province+\"公立医院\", savepath=\"./plots/\"+province+\"/\")\r\n",
    "pt_cm = Potential(df[df[\"医院类型\"] == \"社区医院\"], name=province+\"社区医院\", savepath=\"./plots/\"+province+\"/\")\r\n",
    "\r\n",
    "mask = (df[\"医院类型\"] == \"公立医院\") & (df[\"销售状态\"] == \"有销量目标医院\")\r\n",
    "pt_hp_hassale = Potential(df.loc[mask, :], name=province+\"有量公立医院\", savepath=\"./plots/\"+province+\"/\")\r\n",
    "\r\n",
    "mask = (df[\"医院类型\"] == \"社区医院\") & (df[\"销售状态\"] == \"有销量目标医院\")\r\n",
    "pt_cm_hassale = Potential(df.loc[mask, :], name=province+\"有量社区医院\", savepath=\"./plots/\"+province+\"/\")"
   ]
  },
  {
   "cell_type": "code",
   "execution_count": 29,
   "metadata": {},
   "outputs": [
    {
     "name": "stdout",
     "output_type": "stream",
     "text": [
      "             终端潜力值\n",
      "医院类型              \n",
      "公立医院  2.438065e+08\n",
      "社区医院  1.620208e+08\n",
      "[0.60076413 0.39923587]\n",
      "./plots/浙江/浙江城市医院整体市场不同医院类型终端潜力值占比饼图.png has been saved...\n",
      "      信立坦2021指标\n",
      "医院类型           \n",
      "公立医院   10409203\n",
      "社区医院    6018439\n",
      "[0.63363951 0.36636049]\n",
      "./plots/浙江/浙江城市医院整体市场不同医院类型信立坦2021指标占比饼图.png has been saved...\n",
      "      信立坦同期销量\n",
      "医院类型         \n",
      "公立医院  7484323\n",
      "社区医院  3671213\n",
      "[0.67090662 0.32909338]\n",
      "./plots/浙江/浙江城市医院整体市场不同医院类型信立坦同期销量占比饼图.png has been saved...\n"
     ]
    }
   ],
   "source": [
    "# 不同医院类型潜力/指标/销售的占比饼图\r\n",
    "pt_total.plot_share_pie(value=\"终端潜力值\", index=\"医院类型\")\r\n",
    "pt_total.plot_share_pie(value=\"信立坦2021指标\", index=\"医院类型\")\r\n",
    "pt_total.plot_share_pie(value=\"信立坦同期销量\", index=\"医院类型\")"
   ]
  },
  {
   "cell_type": "code",
   "execution_count": 30,
   "metadata": {},
   "outputs": [
    {
     "name": "stdout",
     "output_type": "stream",
     "text": [
      "            公立医院          社区医院\n",
      "省份                            \n",
      "浙江  2.438065e+08  1.620208e+08\n",
      "./plots/浙江/浙江城市医院整体市场各省份不同医院类型潜力DOT（百万）柱状图.png has been saved...\n",
      "             公立医院          社区医院\n",
      "城市                             \n",
      "杭州市  6.543385e+07  5.450477e+07\n",
      "宁波市  3.274883e+07  4.618194e+07\n",
      "温州市  2.496876e+07  1.704639e+07\n",
      "台州市  2.691505e+07  6.675637e+06\n",
      "金华市  2.456109e+07  7.921143e+06\n",
      "嘉兴市  2.129900e+07  6.098024e+06\n",
      "绍兴市  1.823745e+07  4.903088e+06\n",
      "舟山市  4.010953e+06  1.016509e+07\n",
      "湖州市  1.094312e+07  3.090921e+06\n",
      "丽水市  9.545178e+06  3.683480e+06\n",
      "衢州市  5.143206e+06  1.750326e+06\n",
      "./plots/浙江/浙江城市医院整体市场TOP30城市不同医院类型潜力DOT（百万）柱状图.png has been saved...\n"
     ]
    }
   ],
   "source": [
    "# 不同省份，城市，Decile医院类型占比\r\n",
    "pt_total.plot_pivot_stackedbar(value=\"终端潜力值\", \r\n",
    "                               index=\"省份\", \r\n",
    "                               column=\"医院类型\", \r\n",
    "                               line_share=\"社区医院\",\r\n",
    "                               unit_index=\"百万\", \r\n",
    "                               y1labelthreshold=10)\r\n",
    "pt_total.plot_pivot_stackedbar(value=\"终端潜力值\", \r\n",
    "                               index=\"城市\", \r\n",
    "                               column=\"医院类型\", \r\n",
    "                               line_share=\"社区医院\",\r\n",
    "                               top=30, \r\n",
    "                               unit_index=\"百万\", \r\n",
    "                               y1labelthreshold=10)"
   ]
  },
  {
   "cell_type": "code",
   "execution_count": 31,
   "metadata": {},
   "outputs": [
    {
     "name": "stdout",
     "output_type": "stream",
     "text": [
      "           终端潜力值\n",
      "省份              \n",
      "浙江  1.620208e+08\n",
      "./plots/浙江/浙江社区医院各省份潜力DOT（百万）贡献及累积占比柱状图.png has been saved...\n",
      "            终端潜力值\n",
      "城市               \n",
      "杭州市  5.450477e+07\n",
      "宁波市  4.618194e+07\n",
      "温州市  1.704639e+07\n",
      "舟山市  1.016509e+07\n",
      "金华市  7.921143e+06\n",
      "台州市  6.675637e+06\n",
      "嘉兴市  6.098024e+06\n",
      "绍兴市  4.903088e+06\n",
      "丽水市  3.683480e+06\n",
      "湖州市  3.090921e+06\n",
      "衢州市  1.750326e+06\n",
      "./plots/浙江/浙江社区医院TOP30城市潜力DOT（百万）贡献及累积占比柱状图.png has been saved...\n"
     ]
    }
   ],
   "source": [
    "# 社区医院不同省份/城市的潜力值\r\n",
    "pt_cm.plot_contrib_barline(value=\"终端潜力值\", index=\"省份\", unit_index=\"百万\") \r\n",
    "pt_cm.plot_contrib_barline(value=\"终端潜力值\", index=\"城市\", unit_index=\"百万\", top=30) "
   ]
  },
  {
   "cell_type": "code",
   "execution_count": 32,
   "metadata": {},
   "outputs": [
    {
     "name": "stdout",
     "output_type": "stream",
     "text": [
      "                终端潜力值\n",
      "销售状态                 \n",
      "有销量目标医院  5.723909e+07\n",
      "无销量目标医院  5.805236e+07\n",
      "非目标医院    4.672937e+07\n",
      "[0.35328235 0.35830184 0.28841581]\n",
      "./plots/浙江/浙江社区医院不同销售状态终端潜力值占比饼图.png has been saved...\n",
      "         医院名称\n",
      "销售状态         \n",
      "有销量目标医院   147\n",
      "无销量目标医院   365\n",
      "非目标医院     324\n",
      "[0.17583732 0.43660287 0.38755981]\n",
      "./plots/浙江/浙江社区医院不同销售状态终端数量占比饼图.png has been saved...\n"
     ]
    }
   ],
   "source": [
    "# 社区医院不同销售状态的家数和潜力值\r\n",
    "pt_cm.plot_share_pie(value=\"终端潜力值\", index=\"销售状态\")\r\n",
    "pt_cm.plot_share_pie(value=\"医院名称\", index=\"销售状态\")"
   ]
  },
  {
   "cell_type": "code",
   "execution_count": 33,
   "metadata": {},
   "outputs": [
    {
     "name": "stdout",
     "output_type": "stream",
     "text": [
      "         有销量目标医院       无销量目标医院         非目标医院\n",
      "省份                                          \n",
      "浙江  5.723909e+07  5.805236e+07  4.672937e+07\n",
      "./plots/浙江/浙江社区医院各省份不同销售状态潜力DOT（百万）柱状图.png has been saved...\n",
      "          有销量目标医院       无销量目标医院         非目标医院\n",
      "城市                                           \n",
      "杭州市  3.026111e+07  1.944049e+07  4.803176e+06\n",
      "宁波市  2.341849e+07  1.200225e+07  1.076120e+07\n",
      "温州市  1.026257e+06  6.860739e+06  9.159393e+06\n",
      "舟山市  6.549167e+04  6.582320e+06  3.517280e+06\n",
      "金华市  1.568151e+06  2.636681e+06  3.716311e+06\n",
      "台州市  1.335744e+05  3.235021e+06  3.307041e+06\n",
      "嘉兴市  1.544058e+05  2.942926e+06  3.000693e+06\n",
      "绍兴市  2.475012e+05  2.409212e+06  2.246375e+06\n",
      "丽水市  0.000000e+00  9.887671e+05  2.694713e+06\n",
      "湖州市  3.641146e+05  3.145931e+05  2.412214e+06\n",
      "衢州市  0.000000e+00  6.393576e+05  1.110968e+06\n",
      "./plots/浙江/浙江社区医院TOP30城市不同销售状态潜力DOT（百万）柱状图.png has been saved...\n"
     ]
    }
   ],
   "source": [
    "# 社区医院不同省份/城市下分销售状态的潜力值\r\n",
    "pt_cm.plot_pivot_stackedbar(\r\n",
    "    value=\"终端潜力值\", index=\"省份\", column=\"销售状态\", unit_index=\"百万\", y1labelthreshold=2\r\n",
    ") \r\n",
    "pt_cm.plot_pivot_stackedbar(\r\n",
    "    value=\"终端潜力值\", index=\"城市\", column=\"销售状态\", unit_index=\"百万\", top=30, y1labelthreshold=2\r\n",
    ") "
   ]
  },
  {
   "cell_type": "code",
   "execution_count": 34,
   "metadata": {},
   "outputs": [
    {
     "name": "stdout",
     "output_type": "stream",
     "text": [
      "      公立医院  社区医院\n",
      "潜力分位            \n",
      "10       3     0\n",
      "9       11     5\n",
      "8       26    21\n",
      "7       34    16\n",
      "6       56    43\n",
      "5      116    57\n",
      "4       98   120\n",
      "3      170   149\n",
      "2      166   246\n",
      "1      410   179\n",
      "./plots/浙江/浙江城市医院整体市场各潜力分位不同医院类型终端数量柱状图.png has been saved...\n",
      "      有销量目标医院  无销量目标医院  非目标医院\n",
      "潜力分位                         \n",
      "10        NaN      NaN    NaN\n",
      "9         4.0      1.0    0.0\n",
      "8        14.0      6.0    1.0\n",
      "7         7.0      6.0    3.0\n",
      "6        14.0     16.0   13.0\n",
      "5         8.0     27.0   22.0\n",
      "4        20.0     42.0   58.0\n",
      "3        20.0     39.0   90.0\n",
      "2        43.0    129.0   74.0\n",
      "1        17.0     99.0   63.0\n",
      "./plots/浙江/浙江社区医院各潜力分位不同销售状态终端数量柱状图.png has been saved...\n"
     ]
    }
   ],
   "source": [
    "# 不同潜力分位下的医院类型\r\n",
    "pt_total.plot_pivot_stackedbar(\r\n",
    "    value=\"医院名称\", index=\"潜力分位\", column=\"医院类型\", percentage=True, y1labelthreshold=0\r\n",
    ")\r\n",
    "# 社区医院不同潜力分位下的销售状态\r\n",
    "pt_cm.plot_pivot_stackedbar(\r\n",
    "    value=\"医院名称\", index=\"潜力分位\", column=\"销售状态\", percentage=True\r\n",
    ") "
   ]
  },
  {
   "cell_type": "code",
   "execution_count": 35,
   "metadata": {},
   "outputs": [
    {
     "name": "stdout",
     "output_type": "stream",
     "text": [
      "           终端潜力值\n",
      "省份              \n",
      "浙江  1.620208e+08\n",
      "    信立坦同期销量\n",
      "省份         \n",
      "浙江  3671213\n",
      "        终端潜力值    信立坦同期销量\n",
      "省份                      \n",
      "浙江  18.903235  15.116033\n",
      "./plots/浙江/浙江社区医院各省份终端潜力值 vs. 信立坦同期销量气泡图.png has been saved...\n",
      "            终端潜力值\n",
      "城市               \n",
      "杭州市  5.450477e+07\n",
      "宁波市  4.618194e+07\n",
      "温州市  1.704639e+07\n",
      "舟山市  1.016509e+07\n",
      "金华市  7.921143e+06\n",
      "台州市  6.675637e+06\n",
      "嘉兴市  6.098024e+06\n",
      "绍兴市  4.903088e+06\n",
      "丽水市  3.683480e+06\n",
      "湖州市  3.090921e+06\n",
      "衢州市  1.750326e+06\n",
      "     信立坦同期销量\n",
      "城市          \n",
      "杭州市  2693411\n",
      "宁波市   849296\n",
      "温州市    50295\n",
      "金华市    28105\n",
      "绍兴市    20566\n",
      "湖州市    17430\n",
      "台州市     8505\n",
      "舟山市     3535\n",
      "嘉兴市       70\n",
      "丽水市        0\n",
      "衢州市        0\n",
      "         终端潜力值    信立坦同期销量\n",
      "城市                       \n",
      "杭州市  17.813799  14.806319\n",
      "宁波市  17.648099  13.652163\n",
      "温州市  16.651449  10.825661\n",
      "舟山市  16.134470   8.170469\n",
      "金华市  15.885046  10.243703\n",
      "台州市  15.713975   9.048410\n",
      "嘉兴市  15.623475   4.248495\n",
      "绍兴市  15.405376   9.931395\n",
      "丽水市  15.119368   0.000000\n",
      "湖州市  14.943980   9.765948\n",
      "衢州市  14.375312   0.000000\n",
      "./plots/浙江/浙江社区医院TOP30城市终端潜力值 vs. 信立坦同期销量气泡图.png has been saved...\n"
     ]
    }
   ],
   "source": [
    "# 不同省份/城市的潜力 vs 信立坦销量对比\r\n",
    "pt_cm.plot_2d_bubble(\r\n",
    "    value_x=\"终端潜力值\",\r\n",
    "    value_y=\"信立坦同期销量\",\r\n",
    "    index=\"省份\",\r\n",
    "    log_x=True,\r\n",
    "    log_y=True,\r\n",
    "    z_scale=15,\r\n",
    "    label_limit=100,\r\n",
    ")\r\n",
    "\r\n",
    "pt_cm.plot_2d_bubble(\r\n",
    "    value_x=\"终端潜力值\",\r\n",
    "    value_y=\"信立坦同期销量\",\r\n",
    "    index=\"城市\",\r\n",
    "    log_x=True,\r\n",
    "    log_y=True,\r\n",
    "    z_scale=15,\r\n",
    "    top=30,\r\n",
    ")\r\n"
   ]
  },
  {
   "cell_type": "code",
   "execution_count": 36,
   "metadata": {},
   "outputs": [
    {
     "name": "stdout",
     "output_type": "stream",
     "text": [
      "           终端潜力值\n",
      "省份              \n",
      "浙江  1.620208e+08\n",
      "                                                 销售代表\n",
      "省份                                                   \n",
      "浙江  张定,陈雪英,吴俊,nan,张磊（浙江）,赵功武,nan,黄帆,张磊（浙江）,王亮亮,nan...\n",
      "        终端潜力值  销售代表人数\n",
      "省份                   \n",
      "浙江  18.903235      34\n",
      "./plots/浙江/浙江社区医院各省份终端潜力值 vs. 销售代表人数气泡图.png has been saved...\n",
      "            终端潜力值\n",
      "城市               \n",
      "杭州市  5.450477e+07\n",
      "宁波市  4.618194e+07\n",
      "温州市  1.704639e+07\n",
      "舟山市  1.016509e+07\n",
      "金华市  7.921143e+06\n",
      "台州市  6.675637e+06\n",
      "嘉兴市  6.098024e+06\n",
      "绍兴市  4.903088e+06\n",
      "丽水市  3.683480e+06\n",
      "湖州市  3.090921e+06\n",
      "衢州市  1.750326e+06\n",
      "                                                  销售代表\n",
      "城市                                                    \n",
      "杭州市  陈雪英,吴俊,张磊（浙江）,黄帆,张磊（浙江）,陈雪英,nan,方权,nan,黄帆,陈雪英,...\n",
      "湖州市  沈腾跃,nan,nan,nan,nan,沈腾跃,nan,nan,nan,nan,nan,na...\n",
      "宁波市  张定,赵功武,nan,王亮亮,nan,冯育,nan,项忆单,nan,鲍庆静,张定,nan,n...\n",
      "金华市  余谢华,nan,nan,nan,黄波,nan,nan,nan,nan,nan,nan,nan...\n",
      "绍兴市  nan,nan,nan,nan,nan,nan,谢新娟,nan,nan,nan,nan,na...\n",
      "嘉兴市  nan,nan,nan,nan,nan,nan,nan,nan,nan,nan,nan,na...\n",
      "舟山市  nan,nan,nan,nan,nan,nan,nan,nan,nan,nan,nan,na...\n",
      "台州市  nan,nan,nan,nan,nan,nan,nan,nan,nan,nan,nan,na...\n",
      "温州市  nan,nan,nan,nan,nan,nan,nan,nan,nan,nan,nan,na...\n",
      "衢州市  nan,nan,nan,nan,nan,nan,nan,nan,nan,nan,nan,na...\n",
      "丽水市  nan,nan,nan,nan,nan,nan,nan,nan,nan,nan,nan,na...\n",
      "         终端潜力值  销售代表人数\n",
      "城市                    \n",
      "杭州市  17.813799      16\n",
      "宁波市  17.648099       8\n",
      "温州市  16.651449       2\n",
      "舟山市  16.134470       1\n",
      "金华市  15.885046       3\n",
      "台州市  15.713975       2\n",
      "嘉兴市  15.623475       1\n",
      "绍兴市  15.405376       1\n",
      "丽水市  15.119368       0\n",
      "湖州市  14.943980       1\n",
      "衢州市  14.375312       0\n",
      "./plots/浙江/浙江社区医院TOP30城市终端潜力值 vs. 销售代表人数气泡图.png has been saved...\n"
     ]
    }
   ],
   "source": [
    "# 不同省份/城市的潜力 vs 销售代表人数\r\n",
    "pt_cm.plot_2d_bubble(\r\n",
    "    value_x=\"终端潜力值\", value_y=\"销售代表\", index=\"省份\", log_x=True, z_scale=15, label_limit=100\r\n",
    ")\r\n",
    "pt_cm.plot_2d_bubble(\r\n",
    "    value_x=\"终端潜力值\", value_y=\"销售代表\", index=\"城市\", log_x=True, z_scale=15, top=30\r\n",
    ")"
   ]
  },
  {
   "cell_type": "code",
   "execution_count": 37,
   "metadata": {},
   "outputs": [],
   "source": [
    "# 表现汇总表\r\n",
    "pt_cm.table_to_excel(\"省份\")\r\n",
    "pt_cm.table_to_excel(\"城市\", top=30)\r\n",
    "pt_cm.table_to_excel(\"潜力分位\")"
   ]
  },
  {
   "cell_type": "code",
   "execution_count": 38,
   "metadata": {},
   "outputs": [
    {
     "name": "stdout",
     "output_type": "stream",
     "text": [
      "       信立坦份额>10%   信立坦份额5%-10%    信立坦份额1%-5%      信立坦份额<1%  未开户或非目标\n",
      "省份                                                                 \n",
      "浙江  7.307852e+06  9.901412e+06  1.711671e+07  2.291312e+07      NaN\n",
      "./plots/浙江/浙江有量社区医院TOP20省份不同信立坦销售表现潜力DOT（百万）柱状图.png has been saved...\n",
      "        信立坦份额>10%   信立坦份额5%-10%    信立坦份额1%-5%      信立坦份额<1%  未开户或非目标\n",
      "城市                                                                  \n",
      "杭州市  5.596339e+06  6.113653e+06  4.404835e+06  1.414628e+07      NaN\n",
      "宁波市  1.488644e+06  3.293120e+06  1.210749e+07  6.529238e+06      NaN\n",
      "金华市  5.759267e+04  2.806601e+04  8.993809e+04  1.392554e+06      NaN\n",
      "温州市  1.340783e+05  0.000000e+00  2.587749e+05  6.334041e+05      NaN\n",
      "湖州市  0.000000e+00  1.835401e+05  1.510174e+05  2.955713e+04      NaN\n",
      "绍兴市  2.281456e+03  2.175405e+05  0.000000e+00  2.767922e+04      NaN\n",
      "嘉兴市  0.000000e+00  0.000000e+00  0.000000e+00  1.544058e+05      NaN\n",
      "台州市  2.891643e+04  0.000000e+00  1.046580e+05  0.000000e+00      NaN\n",
      "舟山市  0.000000e+00  6.549167e+04  0.000000e+00  0.000000e+00      NaN\n",
      "./plots/浙江/浙江有量社区医院TOP20城市不同信立坦销售表现潜力DOT（百万）柱状图.png has been saved...\n",
      "         信立坦份额>10%   信立坦份额5%-10%    信立坦份额1%-5%      信立坦份额<1%  未开户或非目标\n",
      "潜力分位                                                                 \n",
      "10             NaN           NaN           NaN           NaN      NaN\n",
      "9     0.000000e+00  0.000000e+00  3.198735e+06  6.990032e+06      NaN\n",
      "8     0.000000e+00  6.701674e+06  6.201507e+06  7.779938e+06      NaN\n",
      "7     0.000000e+00  0.000000e+00  3.259793e+06  2.474617e+06      NaN\n",
      "6     2.326400e+06  1.599779e+06  2.254981e+06  2.017090e+06      NaN\n",
      "5     6.604182e+05  6.324368e+05  3.714361e+05  1.096178e+06      NaN\n",
      "4     1.819432e+06  5.822838e+05  6.940419e+05  8.875162e+05      NaN\n",
      "3     1.383355e+06  9.162237e+04  5.436373e+05  4.887592e+05      NaN\n",
      "2     8.774808e+05  2.655493e+05  4.711676e+05  1.121752e+06      NaN\n",
      "1     2.407655e+05  2.806601e+04  1.214137e+05  5.723635e+04      NaN\n",
      "./plots/浙江/浙江有量社区医院各潜力分位不同信立坦销售表现潜力DOT（百万）柱状图.png has been saved...\n"
     ]
    }
   ],
   "source": [
    "# 有量医院信立坦表现\r\n",
    "pt_cm_hassale.plot_pivot_stackedbar(\r\n",
    "    value=\"终端潜力值\",\r\n",
    "    index=\"省份\",\r\n",
    "    column=\"信立坦销售表现\",\r\n",
    "    unit_index=\"百万\",\r\n",
    "    percentage=True,\r\n",
    "    percentage_label=True,\r\n",
    "    top=20\r\n",
    ")\r\n",
    "pt_cm_hassale.plot_pivot_stackedbar(\r\n",
    "    value=\"终端潜力值\",\r\n",
    "    index=\"城市\",\r\n",
    "    column=\"信立坦销售表现\",\r\n",
    "    unit_index=\"百万\",\r\n",
    "    percentage=True,\r\n",
    "    percentage_label=True,\r\n",
    "    top=20\r\n",
    ")\r\n",
    "pt_cm_hassale.plot_pivot_stackedbar(\r\n",
    "    value=\"终端潜力值\",\r\n",
    "    index=\"潜力分位\",\r\n",
    "    column=\"信立坦销售表现\",\r\n",
    "    unit_index=\"百万\",\r\n",
    "    percentage=True,\r\n",
    "    percentage_label=True,\r\n",
    ")\r\n"
   ]
  },
  {
   "cell_type": "code",
   "execution_count": 39,
   "metadata": {},
   "outputs": [
    {
     "name": "stdout",
     "output_type": "stream",
     "text": [
      "                                      终端潜力值\n",
      "医院名称                                       \n",
      "宁波市海曙区西门望春社区卫生服务中心             3.198735e+06\n",
      "杭州市滨江区浦沿街道社区卫生服务中心             2.509769e+06\n",
      "杭州市滨江区长河街道社区卫生服务中心             2.495567e+06\n",
      "杭州市江干区凯旋街道社区卫生服务中心             1.984696e+06\n",
      "宁波市海曙区白云街道社区卫生服务中心             1.829905e+06\n",
      "...                                     ...\n",
      "杭州市西湖区古荡街道社区卫生服务中心（西）          2.569591e+04\n",
      "杭州西湖街道社区卫生服务中心                 1.880906e+04\n",
      "杭州市西湖区文新街道社区卫生服务中心             1.837355e+04\n",
      "杭州市下城区中医院                      5.727506e+03\n",
      "绍兴市越城区府山街道社区卫生服务中心（原绍兴红十字会医院）  2.281456e+03\n",
      "\n",
      "[147 rows x 1 columns]\n",
      "                                             信立坦销售份额\n",
      "医院名称                                                \n",
      "杭州市西湖区古荡街道社区卫生服务中心（西）                       0.809078\n",
      "杭州市上城区望江街道社区卫生服务中心（原杭州市上城区卫生局结算中心(清波、望江社区)  0.809078\n",
      "杭州西湖街道社区卫生服务中心                              0.809078\n",
      "杭州市拱墅区大关上塘街道社区卫生服务中心                        0.809078\n",
      "杭州市下城区中医院                                   0.809078\n",
      "...                                              ...\n",
      "杭州市滨江区长河街道社区卫生服务中心                          0.000690\n",
      "海盐县百步镇卫生院/海盐县人民医院百步分院                       0.000453\n",
      "金华市婺城区新狮街道社区卫生服务中心                          0.000161\n",
      "宁波市鄞州区下应街道社区卫生服务中心                          0.000081\n",
      "绍兴市越城区灵芝镇卫生院                               -0.000506\n",
      "\n",
      "[147 rows x 1 columns]\n",
      "                                      终端潜力值   信立坦销售份额\n",
      "医院名称                                                 \n",
      "宁波市海曙区西门望春社区卫生服务中心             3.198735e+06  0.044949\n",
      "杭州市滨江区浦沿街道社区卫生服务中心             2.509769e+06  0.002231\n",
      "杭州市滨江区长河街道社区卫生服务中心             2.495567e+06  0.000690\n",
      "杭州市江干区凯旋街道社区卫生服务中心             1.984696e+06  0.002236\n",
      "宁波市海曙区白云街道社区卫生服务中心             1.829905e+06  0.009181\n",
      "...                                     ...       ...\n",
      "杭州市西湖区古荡街道社区卫生服务中心（西）          2.569591e+04  0.809078\n",
      "杭州西湖街道社区卫生服务中心                 1.880906e+04  0.809078\n",
      "杭州市西湖区文新街道社区卫生服务中心             1.837355e+04  0.784824\n",
      "杭州市下城区中医院                      5.727506e+03  0.809078\n",
      "绍兴市越城区府山街道社区卫生服务中心（原绍兴红十字会医院）  2.281456e+03  0.552279\n",
      "\n",
      "[147 rows x 2 columns]\n",
      "./plots/浙江/浙江有量社区医院各医院终端潜力值 vs. 信立坦销售份额气泡图.png has been saved...\n"
     ]
    }
   ],
   "source": [
    "# 终端的潜力 vs 信立坦销售份额对比\r\n",
    "pt_cm_hassale.plot_2d_bubble(\r\n",
    "    value_x=\"终端潜力值\",\r\n",
    "    value_y=\"信立坦销售份额\",\r\n",
    "    index=\"医院名称\",\r\n",
    "    log_x=False,\r\n",
    "    log_y=False,\r\n",
    "    z_scale=0.000001,\r\n",
    "    with_reg=False,\r\n",
    "    fmt_y=\"{:.0%}\",\r\n",
    "    label_limit=0\r\n",
    ")\r\n"
   ]
  }
 ],
 "metadata": {
  "interpreter": {
   "hash": "082e8e013f75168792a33ffbe4d7f80c94d80d72c0b1a3990eb722d0f23461a1"
  },
  "kernelspec": {
   "display_name": "Python 3.9.2 64-bit ('.venv')",
   "name": "python3"
  },
  "language_info": {
   "codemirror_mode": {
    "name": "ipython",
    "version": 3
   },
   "file_extension": ".py",
   "mimetype": "text/x-python",
   "name": "python",
   "nbconvert_exporter": "python",
   "pygments_lexer": "ipython3",
   "version": "3.9.2"
  },
  "orig_nbformat": 4
 },
 "nbformat": 4,
 "nbformat_minor": 2
}