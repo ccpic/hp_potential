{
 "cells": [
  {
   "cell_type": "code",
   "execution_count": null,
   "source": [
    "\r\n",
    "import numpy as np\r\n",
    "import pandas as pd\r\n",
    "from dataclass import Potential\r\n",
    "from data_prepare import prepare_data\r\n",
    "\r\n",
    "df = prepare_data()\r\n",
    "\r\n",
    "filter_name = \"全国\"\r\n",
    "filter_mask = (df[\"省份\"]!=\"台湾\")\r\n",
    "\r\n",
    "# filter_name = \"北京\"\r\n",
    "# filter_mask = (df[\"省份\"].isin([\"北京\"]))\r\n",
    "\r\n",
    "mask = filter_mask\r\n",
    "pt_total = Potential(\r\n",
    "    df.loc[mask, :], name=\"%s城市医院整体市场\" % filter_name, savepath=\"./plots/%s/\" % filter_name\r\n",
    ")\r\n",
    "mask = (df[\"医院类型\"] == \"公立医院\") & filter_mask\r\n",
    "pt_hp = Potential(\r\n",
    "    df.loc[mask, :], name=\"%s等级医院\" % filter_name, savepath=\"./plots/%s/\" % filter_name\r\n",
    ")\r\n",
    "mask = (df[\"医院类型\"] == \"社区医院\") & filter_mask\r\n",
    "pt_cm = Potential(\r\n",
    "    df.loc[mask, :], name=\"%s社区医院\" % filter_name, savepath=\"./plots/%s/\" % filter_name\r\n",
    ")\r\n",
    "mask = (df[\"销售状态\"] == \"有销量目标医院\") & filter_mask\r\n",
    "pt_total_hassale = Potential(\r\n",
    "    df.loc[mask, :], name=\"%s有量城市医院整体市场\" % filter_name, savepath=\"./plots/%s/\" % filter_name\r\n",
    ")\r\n",
    "mask = (df[\"医院类型\"] == \"社区医院\") & (df[\"销售状态\"] == \"有销量目标医院\") & filter_mask\r\n",
    "pt_cm_hassale = Potential(\r\n",
    "    df.loc[mask, :], name=\"%s有量社区医院\" % filter_name, savepath=\"./plots/%s/\" % filter_name\r\n",
    ")\r\n",
    "mask = (df[\"医院类型\"] == \"公立医院\") & (df[\"销售状态\"] == \"有销量目标医院\") & filter_mask\r\n",
    "pt_hp_hassale = Potential(\r\n",
    "    df.loc[mask, :], name=\"%s有量等级医院\" % filter_name, savepath=\"./plots/%s/\" % filter_name\r\n",
    ")"
   ],
   "outputs": [],
   "metadata": {}
  },
  {
   "cell_type": "code",
   "execution_count": null,
   "source": [
    "# 不同医院类型潜力/指标/销售的占比饼图\r\n",
    "pt_total.plot_share_pie(value=\"终端潜力值\", index=\"医院类型\")\r\n",
    "pt_total.plot_share_pie(value=\"信立坦2021指标\", index=\"医院类型\")\r\n",
    "pt_total.plot_share_pie(value=\"信立坦MAT销量\", index=\"医院类型\")"
   ],
   "outputs": [],
   "metadata": {}
  },
  {
   "cell_type": "code",
   "execution_count": null,
   "source": [
    "# 不同省份，城市，Decile医院类型占比\r\n",
    "pt_total.plot_pivot_stackedbar(value=\"终端潜力值\", \r\n",
    "                               index=\"省份\", \r\n",
    "                               column=\"医院类型\", \r\n",
    "                               line_share=\"社区医院\",\r\n",
    "                               unit_index=\"百万\", \r\n",
    "                               y1labelthreshold=10)\r\n",
    "pt_total.plot_pivot_stackedbar(value=\"终端潜力值\", \r\n",
    "                               index=\"城市\", \r\n",
    "                               column=\"医院类型\", \r\n",
    "                               line_share=\"社区医院\",\r\n",
    "                               top=30, \r\n",
    "                               unit_index=\"百万\", \r\n",
    "                               y1labelthreshold=10)\r\n",
    "# pt_total.plot_pivot_stackedbar(value=\"终端潜力值\", \r\n",
    "#                                index=\"区县\", \r\n",
    "#                                column=\"医院类型\", \r\n",
    "#                                line_share=\"社区医院\",\r\n",
    "#                                unit_index=\"百万\", \r\n",
    "#                                y1labelthreshold=5)\r\n",
    "pt_total.plot_pivot_stackedbar(\r\n",
    "    value=\"医院名称\", index=\"潜力分位\", column=\"医院类型\", percentage=True, y1labelthreshold=0\r\n",
    ")"
   ],
   "outputs": [],
   "metadata": {}
  },
  {
   "cell_type": "code",
   "execution_count": null,
   "source": [
    "# 不同地区经理医院类型占比\r\n",
    "pt_total.plot_pivot_stackedbar(value=\"终端潜力值\", \r\n",
    "                               index=\"地区经理\", \r\n",
    "                               column=\"医院类型\", \r\n",
    "                               line_share=\"社区医院\",\r\n",
    "                               unit_index=\"百万\", \r\n",
    "                               y1labelthreshold=10)"
   ],
   "outputs": [],
   "metadata": {}
  },
  {
   "cell_type": "code",
   "execution_count": null,
   "source": [
    "# 社区医院不同省份/城市的潜力值\r\n",
    "pt_cm.plot_contrib_barline(value=\"终端潜力值\", index=\"省份\", unit_index=\"百万\") \r\n",
    "pt_cm.plot_contrib_barline(value=\"终端潜力值\", index=\"城市\", unit_index=\"百万\", top=30) \r\n",
    "# pt_cm.plot_contrib_barline(value=\"终端潜力值\", index=\"区县\", unit_index=\"百万\") "
   ],
   "outputs": [],
   "metadata": {}
  },
  {
   "cell_type": "code",
   "execution_count": null,
   "source": [
    "pt_cm.table_to_excel(\"医院名称\", top=30)\r\n",
    "pt_cm_hassale.table_to_excel(\"医院名称\", top=30, sort_by=\"信立坦MAT销量(DOT)\")"
   ],
   "outputs": [],
   "metadata": {}
  },
  {
   "cell_type": "code",
   "execution_count": null,
   "source": [
    "# 社区医院不同销售状态的家数和潜力值\r\n",
    "pt_cm.plot_share_pie(value=\"终端潜力值\", index=\"销售状态\")\r\n",
    "pt_cm.plot_share_pie(value=\"医院名称\", index=\"销售状态\")\r\n",
    "pt_cm_hassale.plot_share_pie(value=\"终端潜力值\", index=\"信立坦销售表现\")\r\n",
    "pt_cm_hassale.plot_share_pie(value=\"医院名称\", index=\"信立坦销售表现\")"
   ],
   "outputs": [],
   "metadata": {}
  },
  {
   "cell_type": "code",
   "execution_count": null,
   "source": [
    "# 社区医院不同省份/城市下分销售状态的潜力值\r\n",
    "pt_cm.plot_pivot_stackedbar(\r\n",
    "    value=\"终端潜力值\", index=\"省份\", column=\"销售状态\", percentage=True, y1labelthreshold=2\r\n",
    ") \r\n",
    "pt_cm.plot_pivot_stackedbar(\r\n",
    "    value=\"终端潜力值\", index=\"城市\", column=\"销售状态\", top=30, percentage=True, y1labelthreshold=2\r\n",
    ") \r\n",
    "# pt_cm.plot_pivot_stackedbar(\r\n",
    "#     value=\"终端潜力值\", index=\"区县\", column=\"销售状态\", percentage=True, y1labelthreshold=2\r\n",
    "# ) \r\n",
    "pt_cm_hassale.plot_pivot_stackedbar(\r\n",
    "    value=\"终端潜力值\", index=\"省份\", column=\"信立坦销售表现\", percentage=True, y1labelthreshold=2\r\n",
    ") \r\n",
    "pt_cm_hassale.plot_pivot_stackedbar(\r\n",
    "    value=\"终端潜力值\", index=\"城市\", column=\"信立坦销售表现\", top=30, percentage=True, y1labelthreshold=2\r\n",
    ") \r\n",
    "# pt_cm_hassale.plot_pivot_stackedbar(\r\n",
    "#     value=\"终端潜力值\", index=\"区县\", column=\"信立坦销售表现\", percentage=True, y1labelthreshold=2\r\n",
    "# ) "
   ],
   "outputs": [],
   "metadata": {}
  },
  {
   "cell_type": "code",
   "execution_count": null,
   "source": [
    "# 社区医院不同潜力分位下的销售状态\r\n",
    "pt_cm.plot_pivot_stackedbar(\r\n",
    "    value=\"终端潜力值\", index=\"潜力分位\", column=\"销售状态\", percentage=True, percentage_label=True\r\n",
    ") \r\n",
    "# 社区医院不同潜力分位下的销售状态\r\n",
    "pt_cm_hassale.plot_pivot_stackedbar(\r\n",
    "    value=\"终端潜力值\", index=\"潜力分位\", column=\"信立坦销售表现\", percentage=True, percentage_label=True\r\n",
    ") "
   ],
   "outputs": [],
   "metadata": {}
  },
  {
   "cell_type": "code",
   "execution_count": null,
   "source": [
    "# 数据汇总表\r\n",
    "pt_cm.table_to_excel(index=\"省份\")\r\n",
    "pt_cm.table_to_excel(index=\"城市\", top=30)\r\n",
    "# pt_cm.table_to_excel(index=\"区县\")\r\n",
    "pt_cm.table_to_excel(index=\"潜力分位\")\r\n",
    "pt_cm_hassale.table_to_excel(index=\"医院名称\", top=30)\r\n",
    "pt_cm_hassale.table_to_excel(index=\"医院名称\", top=30, sort_by=\"信立坦MAT销量(DOT)\")"
   ],
   "outputs": [],
   "metadata": {}
  },
  {
   "cell_type": "code",
   "execution_count": null,
   "source": [
    "# 终端潜力 vs 信立坦份额 气泡图\r\n",
    "pt_cm.plot_2d_bubble(\r\n",
    "    value_x=\"终端潜力值\",\r\n",
    "    value_y=\"信立坦销售份额\",\r\n",
    "    index=\"医院名称\",\r\n",
    "    log_x=False,\r\n",
    "    log_y=False,\r\n",
    "    z_scale=0.000001,\r\n",
    "    label_limit=0,\r\n",
    "    with_reg=False,\r\n",
    "    fmt_y=\"{:.0%}\",\r\n",
    "    lim_y=[0, 1],\r\n",
    ")\r\n"
   ],
   "outputs": [],
   "metadata": {}
  },
  {
   "cell_type": "code",
   "execution_count": null,
   "source": [
    "# 不同省份/城市的潜力 vs 信立坦销量对比\r\n",
    "pt_cm.plot_2d_bubble(\r\n",
    "    value_x=\"终端潜力值\",\r\n",
    "    value_y=\"信立坦MAT销量\",\r\n",
    "    index=\"省份\",\r\n",
    "    log_x=True,\r\n",
    "    log_y=True,\r\n",
    "    z_scale=15,\r\n",
    "    label_limit=100,\r\n",
    ")\r\n",
    "\r\n",
    "pt_cm.plot_2d_bubble(\r\n",
    "    value_x=\"终端潜力值\",\r\n",
    "    value_y=\"信立坦MAT销量\",\r\n",
    "    index=\"城市\",\r\n",
    "    log_x=True,\r\n",
    "    log_y=True,\r\n",
    "    z_scale=15,\r\n",
    "    top=30,\r\n",
    ")\r\n"
   ],
   "outputs": [],
   "metadata": {}
  },
  {
   "cell_type": "code",
   "execution_count": null,
   "source": [
    "# 不同省份/城市的潜力 vs 销售代表人数\r\n",
    "pt_cm.plot_2d_bubble(\r\n",
    "    value_x=\"终端潜力值\", value_y=\"销售代表\", index=\"省份\", log_x=True, z_scale=15, label_limit=100\r\n",
    ")\r\n",
    "pt_cm.plot_2d_bubble(\r\n",
    "    value_x=\"终端潜力值\", value_y=\"销售代表\", index=\"城市\", log_x=True, z_scale=15, top=30\r\n",
    ")"
   ],
   "outputs": [],
   "metadata": {}
  },
  {
   "cell_type": "code",
   "execution_count": null,
   "source": [
    "# 数据汇总表\r\n",
    "pt_total.table_to_excel(lst_index=[\"省份\", \"城市\",\"潜力分位\",\"医院名称\",\"事业部\",\"区域\",\"大区经理\",\"地区经理\"])\r\n",
    "pt_total_hassale.table_to_excel(index=\"医院名称\", sort_by=\"信立坦MAT销量(DOT)\")"
   ],
   "outputs": [],
   "metadata": {}
  }
 ],
 "metadata": {
  "interpreter": {
   "hash": "56d5d394b65d2807411288b7a8f71c2f8b50f8ffc173459055e633e451c51c16"
  },
  "kernelspec": {
   "name": "python3",
   "display_name": "Python 3.7.9 64-bit ('.venv': venv)"
  },
  "language_info": {
   "codemirror_mode": {
    "name": "ipython",
    "version": 3
   },
   "file_extension": ".py",
   "mimetype": "text/x-python",
   "name": "python",
   "nbconvert_exporter": "python",
   "pygments_lexer": "ipython3",
   "version": "3.7.9"
  },
  "orig_nbformat": 4
 },
 "nbformat": 4,
 "nbformat_minor": 2
}