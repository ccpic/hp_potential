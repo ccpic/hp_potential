{
 "cells": [
  {
   "cell_type": "code",
   "execution_count": null,
   "metadata": {},
   "outputs": [],
   "source": [
    "import numpy as np\r\n",
    "import pandas as pd\r\n",
    "from dataclass import Potential\r\n",
    "from data_prepare import prepare_data\r\n",
    "\r\n",
    "df = prepare_data()\r\n",
    "mask = df[\"省份\"].isin([\"上海\", \"江苏\", '山东', '安徽'])\r\n",
    "pt_total = Potential(df.loc[mask, :], name=\"东区市场\", savepath=\"./plots/东区/\")\r\n",
    "mask = (df[\"医院类型\"] == \"公立医院\") & (df[\"省份\"].isin([\"上海\", \"江苏\", '山东', '安徽']))\r\n",
    "pt_hp = Potential(df.loc[mask, :], name=\"东区等级医院\", savepath=\"./plots/东区/\")\r\n",
    "mask = (df[\"医院类型\"] == \"社区医院\") & (df[\"省份\"].isin([\"上海\", \"江苏\", '山东', '安徽']))\r\n",
    "pt_cm = Potential(df.loc[mask, :], name=\"东区社区医院\", savepath=\"./plots/东区/\")\r\n",
    "\r\n",
    "mask = (df[\"医院类型\"] == \"社区医院\") & (df[\"销售状态\"] == \"有销量目标医院\") & df[\"省份\"].isin([\"上海\", \"江苏\", '山东', '安徽'])\r\n",
    "pt_cm_hassale = Potential(df.loc[mask, :], name=\"东区有量社区医院\", savepath=\"./plots/东区/\")"
   ]
  },
  {
   "cell_type": "code",
   "execution_count": null,
   "metadata": {},
   "outputs": [],
   "source": [
    "# 不同医院类型潜力/指标/销售的占比饼图\r\n",
    "pt_total.plot_share_pie(value=\"终端潜力值\", index=\"医院类型\")\r\n",
    "pt_total.plot_share_pie(value=\"信立坦2021指标\", index=\"医院类型\")\r\n",
    "pt_total.plot_share_pie(value=\"信立坦同期销量\", index=\"医院类型\")"
   ]
  },
  {
   "cell_type": "code",
   "execution_count": null,
   "metadata": {},
   "outputs": [],
   "source": [
    "# 不同省份，城市，Decile医院类型占比\r\n",
    "pt_total.plot_pivot_stackedbar(value=\"终端潜力值\", \r\n",
    "                               index=\"省份\", \r\n",
    "                               column=\"医院类型\", \r\n",
    "                               line_share=\"社区医院\",\r\n",
    "                               unit_index=\"百万\", \r\n",
    "                               y1labelthreshold=10)\r\n",
    "pt_total.plot_pivot_stackedbar(value=\"终端潜力值\", \r\n",
    "                               index=\"城市\", \r\n",
    "                               column=\"医院类型\", \r\n",
    "                               line_share=\"社区医院\",\r\n",
    "                               top=30, \r\n",
    "                               unit_index=\"百万\", \r\n",
    "                               y1labelthreshold=10)"
   ]
  },
  {
   "cell_type": "code",
   "execution_count": null,
   "metadata": {},
   "outputs": [],
   "source": [
    "# 社区医院不同省份/城市的潜力值\r\n",
    "pt_cm.plot_contrib_barline(value=\"终端潜力值\", index=\"省份\", unit_index=\"百万\") \r\n",
    "pt_cm.plot_contrib_barline(value=\"终端潜力值\", index=\"城市\", unit_index=\"百万\", top=30) \r\n",
    "# 不同潜力分位下的医院类型\r\n",
    "pt_total.plot_pivot_stackedbar(\r\n",
    "    value=\"医院名称\", index=\"潜力分位\", column=\"医院类型\", percentage=True, y1labelthreshold=0\r\n",
    ")"
   ]
  },
  {
   "cell_type": "code",
   "execution_count": null,
   "metadata": {},
   "outputs": [],
   "source": [
    "pt_cm.table_to_excel(\"医院名称\", top=30)"
   ]
  },
  {
   "cell_type": "code",
   "execution_count": null,
   "metadata": {},
   "outputs": [],
   "source": [
    "# 社区医院不同销售状态的家数和潜力值\r\n",
    "pt_cm.plot_share_pie(value=\"终端潜力值\", index=\"销售状态\")\r\n",
    "pt_cm.plot_share_pie(value=\"医院名称\", index=\"销售状态\")\r\n",
    "pt_cm_hassale.plot_share_pie(value=\"终端潜力值\", index=\"信立坦销售表现\")\r\n",
    "pt_cm_hassale.plot_share_pie(value=\"医院名称\", index=\"信立坦销售表现\")"
   ]
  },
  {
   "cell_type": "code",
   "execution_count": null,
   "metadata": {},
   "outputs": [],
   "source": [
    "# 社区医院不同省份/城市下分销售状态的潜力值\r\n",
    "pt_cm.plot_pivot_stackedbar(\r\n",
    "    value=\"终端潜力值\", index=\"省份\", column=\"销售状态\", unit_index=\"百万\", y1labelthreshold=2\r\n",
    ") \r\n",
    "pt_cm.plot_pivot_stackedbar(\r\n",
    "    value=\"终端潜力值\", index=\"城市\", column=\"销售状态\", unit_index=\"百万\", top=30, y1labelthreshold=2\r\n",
    ") \r\n",
    "pt_cm_hassale.plot_pivot_stackedbar(\r\n",
    "    value=\"终端潜力值\", index=\"省份\", column=\"信立坦销售表现\", unit_index=\"百万\", y1labelthreshold=2\r\n",
    ") \r\n",
    "pt_cm_hassale.plot_pivot_stackedbar(\r\n",
    "    value=\"终端潜力值\", index=\"城市\", column=\"信立坦销售表现\", unit_index=\"百万\", top=30, y1labelthreshold=2\r\n",
    ") "
   ]
  },
  {
   "cell_type": "code",
   "execution_count": null,
   "metadata": {},
   "outputs": [],
   "source": [
    "# 社区医院不同潜力分位下的销售状态\r\n",
    "pt_cm.plot_pivot_stackedbar(\r\n",
    "    value=\"医院名称\", index=\"潜力分位\", column=\"销售状态\", percentage=True\r\n",
    ") \r\n",
    "# 社区医院不同潜力分位下的销售状态\r\n",
    "pt_cm_hassale.plot_pivot_stackedbar(\r\n",
    "    value=\"医院名称\", index=\"潜力分位\", column=\"信立坦销售表现\", percentage=True\r\n",
    ") "
   ]
  },
  {
   "cell_type": "code",
   "execution_count": 6,
   "metadata": {},
   "outputs": [],
   "source": [
    "# 数据汇总表\r\n",
    "pt_cm.table_to_excel(index=\"省份\")\r\n",
    "pt_cm.table_to_excel(index=\"城市\", top=30)\r\n",
    "pt_cm.table_to_excel(index=\"潜力分位\")\r\n",
    "pt_cm_hassale.table_to_excel(index=\"医院名称\", top=30)"
   ]
  },
  {
   "cell_type": "code",
   "execution_count": 4,
   "metadata": {},
   "outputs": [
    {
     "name": "stdout",
     "output_type": "stream",
     "text": [
      "                          终端潜力值\n",
      "医院名称                           \n",
      "张家港市杨舍镇社区卫生服务中心    3.425263e+06\n",
      "南京市建邺区南湖社区卫生服务中心   2.756794e+06\n",
      "张家港市金港镇社区卫生服务中心    2.487387e+06\n",
      "锦丰镇社区卫生服务中心        2.371262e+06\n",
      "苏州工业园区唯亭社区卫生服务中心   2.157652e+06\n",
      "...                         ...\n",
      "孚玉镇社区卫生服务中心        2.721059e+01\n",
      "亳州市涡阳县城东社区卫生服务中心   2.673461e+01\n",
      "亳州市利辛县城关镇社区卫生服务中心  2.666978e+01\n",
      "亳州市谯城区花戏楼社区卫生服务中心  2.658310e+01\n",
      "利辛县城南社区卫生服务中心      2.579002e+01\n",
      "\n",
      "[2729 rows x 1 columns]\n",
      "                                    信立坦销售份额\n",
      "医院名称                                       \n",
      "南京市玄武区新街口社区卫生服务中心（玄武医院）            0.815271\n",
      "南京市鼓楼区小市社区卫生服务中（原：南京市下关区小市医院）      0.814577\n",
      "南京市鼓楼区热河南路街道社区卫生服务中心               0.814459\n",
      "华润苏州礼安医药有限公司太仓分公司【太仓市城厢镇社区卫生服务中心】  0.809078\n",
      "市北区辽源路社区卫生服务中心                     0.809078\n",
      "...                                     ...\n",
      "龙口市惠民医保门诊部(原：龙口市社会劳动保险卫生所)         0.000000\n",
      "市北华夏门诊部                           -0.000479\n",
      "河西街道军益民社区卫生服务站                    -0.000519\n",
      "李沧明岐医疗刘家医务室                       -0.001848\n",
      "青岛市北区同安路街道社区卫生服务站                 -0.002517\n",
      "\n",
      "[568 rows x 1 columns]\n",
      "                          终端潜力值   信立坦销售份额\n",
      "医院名称                                     \n",
      "张家港市杨舍镇社区卫生服务中心    3.425263e+06  0.000210\n",
      "南京市建邺区南湖社区卫生服务中心   2.756794e+06  0.001016\n",
      "张家港市金港镇社区卫生服务中心    2.487387e+06  0.000363\n",
      "锦丰镇社区卫生服务中心        2.371262e+06  0.000747\n",
      "苏州工业园区唯亭社区卫生服务中心   2.157652e+06  0.002985\n",
      "...                         ...       ...\n",
      "孚玉镇社区卫生服务中心        2.721059e+01  0.000000\n",
      "亳州市涡阳县城东社区卫生服务中心   2.673461e+01  0.000000\n",
      "亳州市利辛县城关镇社区卫生服务中心  2.666978e+01  0.000000\n",
      "亳州市谯城区花戏楼社区卫生服务中心  2.658310e+01  0.000000\n",
      "利辛县城南社区卫生服务中心      2.579002e+01  0.000000\n",
      "\n",
      "[2729 rows x 2 columns]\n",
      "./plots/东区/东区社区医院各医院终端潜力值 vs. 信立坦销售份额气泡图.png has been saved...\n"
     ]
    }
   ],
   "source": [
    "# 终端潜力 vs 信立坦份额 气泡图\r\n",
    "pt_cm.plot_2d_bubble(\r\n",
    "    value_x=\"终端潜力值\",\r\n",
    "    value_y=\"信立坦销售份额\",\r\n",
    "    index=\"医院名称\",\r\n",
    "    log_x=False,\r\n",
    "    log_y=False,\r\n",
    "    z_scale=0.000001,\r\n",
    "    label_limit=0,\r\n",
    "    with_reg=False,\r\n",
    "    fmt_y=\"{:.0%}\"\r\n",
    ")\r\n"
   ]
  },
  {
   "cell_type": "code",
   "execution_count": null,
   "metadata": {},
   "outputs": [],
   "source": [
    "# 不同省份/城市的潜力 vs 信立坦销量对比\r\n",
    "pt_cm.plot_2d_bubble(\r\n",
    "    value_x=\"终端潜力值\",\r\n",
    "    value_y=\"信立坦同期销量\",\r\n",
    "    index=\"省份\",\r\n",
    "    log_x=True,\r\n",
    "    log_y=True,\r\n",
    "    z_scale=15,\r\n",
    "    label_limit=100,\r\n",
    ")\r\n",
    "\r\n",
    "pt_cm.plot_2d_bubble(\r\n",
    "    value_x=\"终端潜力值\",\r\n",
    "    value_y=\"信立坦同期销量\",\r\n",
    "    index=\"城市\",\r\n",
    "    log_x=True,\r\n",
    "    log_y=True,\r\n",
    "    z_scale=15,\r\n",
    "    top=30,\r\n",
    ")\r\n"
   ]
  },
  {
   "cell_type": "code",
   "execution_count": null,
   "metadata": {},
   "outputs": [],
   "source": [
    "# 不同省份/城市的潜力 vs 销售代表人数\r\n",
    "pt_cm.plot_2d_bubble(\r\n",
    "    value_x=\"终端潜力值\", value_y=\"销售代表\", index=\"省份\", log_x=True, z_scale=15, label_limit=100\r\n",
    ")\r\n",
    "pt_cm.plot_2d_bubble(\r\n",
    "    value_x=\"终端潜力值\", value_y=\"销售代表\", index=\"城市\", log_x=True, z_scale=15, top=30\r\n",
    ")"
   ]
  }
 ],
 "metadata": {
  "interpreter": {
   "hash": "56d5d394b65d2807411288b7a8f71c2f8b50f8ffc173459055e633e451c51c16"
  },
  "kernelspec": {
   "display_name": "Python 3.7.9 64-bit ('.venv': venv)",
   "name": "python3"
  },
  "language_info": {
   "name": "python",
   "version": ""
  },
  "orig_nbformat": 4
 },
 "nbformat": 4,
 "nbformat_minor": 2
}