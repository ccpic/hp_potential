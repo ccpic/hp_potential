{
 "cells": [
  {
   "cell_type": "code",
   "execution_count": null,
   "metadata": {},
   "outputs": [],
   "source": [
    "import numpy as np\r\n",
    "import pandas as pd\r\n",
    "from dataclass import Potential\r\n",
    "from data_prepare import prepare_data\r\n",
    "\r\n",
    "df = prepare_data()\r\n",
    "pt_total = Potential(df, name=\"城市医院整体市场\")\r\n",
    "pt_hp = Potential(df[df[\"医院类型\"] == \"公立医院\"], name=\"公立医院\")\r\n",
    "pt_cm = Potential(df[df[\"医院类型\"] == \"社区医院\"], name=\"社区医院\")"
   ]
  },
  {
   "cell_type": "code",
   "execution_count": null,
   "metadata": {},
   "outputs": [],
   "source": [
    "# 不同医院类型潜力/指标/销售的占比饼图\r\n",
    "pt_total.plot_share_pie(value=\"终端潜力值\", index=\"医院类型\")\r\n",
    "pt_total.plot_share_pie(value=\"信立坦2021指标\", index=\"医院类型\")\r\n",
    "pt_total.plot_share_pie(value=\"信立坦同期销量\", index=\"医院类型\")"
   ]
  },
  {
   "cell_type": "code",
   "execution_count": null,
   "metadata": {},
   "outputs": [],
   "source": [
    "# 不同省份，城市，Decile医院类型占比\r\n",
    "pt_total.plot_pivot_stackedbar(value=\"终端潜力值\", \r\n",
    "                               index=\"省份\", \r\n",
    "                               column=\"医院类型\", \r\n",
    "                               line_share=\"社区医院\",\r\n",
    "                               unit_index=\"百万\", \r\n",
    "                               y1labelthreshold=10)\r\n",
    "pt_total.plot_pivot_stackedbar(value=\"终端潜力值\", \r\n",
    "                               index=\"城市\", \r\n",
    "                               column=\"医院类型\", \r\n",
    "                               line_share=\"社区医院\",\r\n",
    "                               top=30, \r\n",
    "                               unit_index=\"百万\", \r\n",
    "                               y1labelthreshold=10)"
   ]
  },
  {
   "cell_type": "code",
   "execution_count": null,
   "metadata": {},
   "outputs": [],
   "source": [
    "# 社区医院不同省份/城市的潜力值\r\n",
    "pt_cm.plot_contrib_barline(value=\"终端潜力值\", index=\"省份\", unit_index=\"百万\") \r\n",
    "pt_cm.plot_contrib_barline(value=\"终端潜力值\", index=\"城市\", unit_index=\"百万\", top=30) "
   ]
  },
  {
   "cell_type": "code",
   "execution_count": null,
   "metadata": {},
   "outputs": [],
   "source": [
    "# 社区医院不同销售状态的家数和潜力值\r\n",
    "pt_cm.plot_share_pie(value=\"终端潜力值\", index=\"销售状态\")\r\n",
    "pt_cm.plot_share_pie(value=\"医院名称\", index=\"销售状态\")"
   ]
  },
  {
   "cell_type": "code",
   "execution_count": null,
   "metadata": {},
   "outputs": [],
   "source": [
    "# 社区医院不同省份/城市下分销售状态的潜力值\r\n",
    "pt_cm.plot_pivot_stackedbar(\r\n",
    "    value=\"终端潜力值\", index=\"省份\", column=\"销售状态\", unit_index=\"百万\", y1labelthreshold=2\r\n",
    ") \r\n",
    "pt_cm.plot_pivot_stackedbar(\r\n",
    "    value=\"终端潜力值\", index=\"城市\", column=\"销售状态\", unit_index=\"百万\", top=30, y1labelthreshold=2\r\n",
    ") "
   ]
  },
  {
   "cell_type": "code",
   "execution_count": null,
   "metadata": {},
   "outputs": [],
   "source": [
    "# 不同潜力分位下的医院类型\r\n",
    "pt_total.plot_pivot_stackedbar(\r\n",
    "    value=\"医院名称\", index=\"潜力分位\", column=\"医院类型\", percentage=True, y1labelthreshold=0\r\n",
    ")\r\n",
    "# 社区医院不同潜力分位下的销售状态\r\n",
    "pt_cm.plot_pivot_stackedbar(\r\n",
    "    value=\"医院名称\", index=\"潜力分位\", column=\"销售状态\", percentage=True\r\n",
    ") "
   ]
  },
  {
   "cell_type": "code",
   "execution_count": null,
   "metadata": {},
   "outputs": [],
   "source": [
    "# 不同省份/城市的潜力 vs 信立坦销量对比\r\n",
    "pt_cm.plot_2d_bubble(\r\n",
    "    value_x=\"终端潜力值\",\r\n",
    "    value_y=\"信立坦同期销量\",\r\n",
    "    index=\"省份\",\r\n",
    "    log_x=True,\r\n",
    "    log_y=True,\r\n",
    "    z_scale=15,\r\n",
    "    label_limit=100,\r\n",
    ")\r\n",
    "\r\n",
    "pt_cm.plot_2d_bubble(\r\n",
    "    value_x=\"终端潜力值\",\r\n",
    "    value_y=\"信立坦同期销量\",\r\n",
    "    index=\"城市\",\r\n",
    "    log_x=True,\r\n",
    "    log_y=True,\r\n",
    "    z_scale=15,\r\n",
    "    top=30,\r\n",
    ")\r\n"
   ]
  },
  {
   "cell_type": "code",
   "execution_count": null,
   "metadata": {},
   "outputs": [],
   "source": [
    "# 不同省份/城市的潜力 vs 销售代表人数\r\n",
    "pt_cm.plot_2d_bubble(\r\n",
    "    value_x=\"终端潜力值\", value_y=\"销售代表\", index=\"省份\", log_x=True, z_scale=15, label_limit=100\r\n",
    ")\r\n",
    "pt_cm.plot_2d_bubble(\r\n",
    "    value_x=\"终端潜力值\", value_y=\"销售代表\", index=\"城市\", log_x=True, z_scale=15, top=30\r\n",
    ")"
   ]
  }
 ],
 "metadata": {
  "interpreter": {
   "hash": "56d5d394b65d2807411288b7a8f71c2f8b50f8ffc173459055e633e451c51c16"
  },
  "kernelspec": {
   "display_name": "Python 3.7.9 64-bit ('.venv': venv)",
   "name": "python3"
  },
  "language_info": {
   "codemirror_mode": {
    "name": "ipython",
    "version": 3
   },
   "file_extension": ".py",
   "mimetype": "text/x-python",
   "name": "python",
   "nbconvert_exporter": "python",
   "pygments_lexer": "ipython3",
   "version": "3.7.9"
  },
  "orig_nbformat": 4
 },
 "nbformat": 4,
 "nbformat_minor": 2
}