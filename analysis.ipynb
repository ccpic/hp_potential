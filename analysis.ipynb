{
 "cells": [
  {
   "cell_type": "code",
   "execution_count": null,
   "metadata": {},
   "outputs": [],
   "source": [
    "import numpy as np\r\n",
    "import pandas as pd\r\n",
    "from dataclass import Potential\r\n",
    "from data_prepare import prepare_data\r\n",
    "\r\n",
    "df = prepare_data()\r\n",
    "pt_total = Potential(df, name=\"城市医院整体市场\")\r\n",
    "pt_hp = Potential(df[df[\"医院类型\"] == \"公立医院\"], name=\"公立医院\")\r\n",
    "pt_cm = Potential(df[df[\"医院类型\"] == \"社区医院\"], name=\"社区医院\")"
   ]
  },
  {
   "cell_type": "code",
   "execution_count": null,
   "metadata": {},
   "outputs": [],
   "source": [
    "# 不同医院类型潜力/指标/销售的占比饼图\r\n",
    "pt_total.plot_share_pie(value=\"终端潜力值\", index=\"医院类型\", aggfunc=sum)\r\n",
    "pt_total.plot_share_pie(value=\"信立坦2021指标\", index=\"医院类型\", aggfunc=sum)\r\n",
    "pt_total.plot_share_pie(value=\"信立坦同期销量\", index=\"医院类型\", aggfunc=sum)"
   ]
  },
  {
   "cell_type": "code",
   "execution_count": null,
   "metadata": {},
   "outputs": [],
   "source": [
    "# 不同省份，城市医院类型占比\r\n",
    "pt_total.plot_pivot_stackedbar(value=\"终端潜力值\", \r\n",
    "                               index=\"省份\", \r\n",
    "                               column=\"医院类型\", \r\n",
    "                               line_share=\"社区医院\",\r\n",
    "                               aggfunc=sum, \r\n",
    "                               unit_index=\"百万\", \r\n",
    "                               y1labelthreshold=10)\r\n",
    "pt_total.plot_pivot_stackedbar(value=\"终端潜力值\", \r\n",
    "                               index=\"城市\", \r\n",
    "                               column=\"医院类型\", \r\n",
    "                               line_share=\"社区医院\",\r\n",
    "                               top=30, \r\n",
    "                               aggfunc=sum, \r\n",
    "                               unit_index=\"百万\", \r\n",
    "                               y1labelthreshold=10)"
   ]
  },
  {
   "cell_type": "code",
   "execution_count": 11,
   "metadata": {},
   "outputs": [
    {
     "name": "stdout",
     "output_type": "stream",
     "text": [
      "            终端潜力值\n",
      "省份               \n",
      "江苏   1.866328e+08\n",
      "北京   1.850880e+08\n",
      "浙江   1.709857e+08\n",
      "上海   1.162377e+08\n",
      "广东   5.273818e+07\n",
      "山东   5.256143e+07\n",
      "福建   4.334211e+07\n",
      "河北   4.131629e+07\n",
      "四川   3.319368e+07\n",
      "湖北   2.869159e+07\n",
      "辽宁   2.682517e+07\n",
      "黑龙江  2.659888e+07\n",
      "内蒙古  2.157682e+07\n",
      "湖南   1.975845e+07\n",
      "天津   1.866037e+07\n",
      "河南   1.809699e+07\n",
      "山西   1.704712e+07\n",
      "重庆   1.301787e+07\n",
      "吉林   1.148131e+07\n",
      "新疆   1.138347e+07\n",
      "陕西   9.435972e+06\n",
      "江西   8.969678e+06\n",
      "云南   7.539573e+06\n",
      "安徽   7.304917e+06\n",
      "贵州   6.470266e+06\n",
      "广西   6.433273e+06\n",
      "甘肃   5.398086e+06\n",
      "海南   2.063695e+06\n",
      "青海   1.974511e+06\n",
      "宁夏   1.761529e+06\n",
      "西藏   1.085755e+06\n",
      "./plots/社区医院各省份潜力DOT（百万）贡献及累积占比柱状图.png has been saved...\n",
      "            终端潜力值\n",
      "城市               \n",
      "北京市  1.850880e+08\n",
      "上海市  1.162377e+08\n",
      "苏州市  7.382222e+07\n",
      "南京市  6.062784e+07\n",
      "杭州市  5.434202e+07\n",
      "..            ...\n",
      "济源市  5.320290e+04\n",
      "崇左市  4.518508e+04\n",
      "儋州市  2.337897e+04\n",
      "滁州市  1.290296e+04\n",
      "蚌埠市  6.428962e+03\n",
      "\n",
      "[333 rows x 1 columns]\n",
      "./plots/社区医院TOP30城市潜力DOT（百万）贡献及累积占比柱状图.png has been saved...\n"
     ]
    }
   ],
   "source": [
    "# 社区医院不同省份/城市的潜力值\r\n",
    "pt_cm.plot_contrib_barline(value=\"终端潜力值\", index=\"省份\", unit_index=\"百万\", aggfunc=sum) \r\n",
    "pt_cm.plot_contrib_barline(value=\"终端潜力值\", index=\"城市\", unit_index=\"百万\", top=30, aggfunc=sum) "
   ]
  },
  {
   "cell_type": "code",
   "execution_count": 12,
   "metadata": {},
   "outputs": [
    {
     "name": "stdout",
     "output_type": "stream",
     "text": [
      "          有销量目标医院       无销量目标医院         非目标医院\n",
      "省份                                           \n",
      "江苏   5.197249e+07  9.059704e+07  4.406324e+07\n",
      "北京   9.151544e+07  8.341557e+07  1.015697e+07\n",
      "浙江   5.687388e+07  6.563864e+07  4.847319e+07\n",
      "上海   6.316328e+07  2.030581e+07  3.276859e+07\n",
      "广东   5.730866e+06  1.653858e+07  3.046874e+07\n",
      "山东   2.255869e+07  9.964654e+06  2.003808e+07\n",
      "福建   2.927629e+07  5.235901e+06  8.829915e+06\n",
      "河北   4.244304e+05  1.813595e+06  3.907827e+07\n",
      "四川   3.654904e+06  5.461310e+06  2.407747e+07\n",
      "湖北   2.354577e+05  1.312606e+06  2.714352e+07\n",
      "辽宁            NaN           NaN  2.682517e+07\n",
      "黑龙江           NaN           NaN  2.659888e+07\n",
      "内蒙古           NaN           NaN  2.157682e+07\n",
      "湖南   1.978449e+05  5.245042e+04  1.950815e+07\n",
      "天津   8.768601e+06  7.513492e+06  2.378275e+06\n",
      "河南   1.539269e+05  3.576222e+04  1.790730e+07\n",
      "山西   5.998898e+04  5.817721e+04  1.692895e+07\n",
      "重庆   5.501981e+05  1.272378e+06  1.119529e+07\n",
      "吉林   7.577797e+04  3.976509e+04  1.136577e+07\n",
      "新疆   5.353304e+05  1.077293e+06  9.770849e+06\n",
      "陕西            NaN           NaN  9.435972e+06\n",
      "江西   1.928901e+05           NaN  8.776788e+06\n",
      "云南            NaN           NaN  7.539573e+06\n",
      "安徽   1.522482e+06  3.048210e+06  2.734225e+06\n",
      "贵州            NaN           NaN  6.470266e+06\n",
      "广西            NaN  1.055420e+05  6.327731e+06\n",
      "甘肃            NaN           NaN  5.398086e+06\n",
      "海南   2.634565e+04  1.586397e+05  1.878709e+06\n",
      "青海            NaN  3.667642e+04  1.937834e+06\n",
      "宁夏   4.912953e+04  2.231510e+05  1.489249e+06\n",
      "西藏            NaN           NaN  1.085755e+06\n",
      "./plots/社区医院各省份不同销售状态潜力DOT（百万）柱状图.png has been saved...\n",
      "          有销量目标医院       无销量目标医院         非目标医院\n",
      "城市                                           \n",
      "北京市  9.151544e+07  8.341557e+07  1.015697e+07\n",
      "上海市  6.316328e+07  2.030581e+07  3.276859e+07\n",
      "苏州市  1.792742e+07  4.045739e+07  1.543740e+07\n",
      "南京市  2.840077e+07  2.249236e+07  9.734712e+06\n",
      "杭州市  2.989589e+07  1.956586e+07  4.880274e+06\n",
      "..            ...           ...           ...\n",
      "济源市           NaN           NaN  5.320290e+04\n",
      "崇左市           NaN           NaN  4.518508e+04\n",
      "儋州市           NaN  2.337897e+04           NaN\n",
      "滁州市           NaN           NaN  1.290296e+04\n",
      "蚌埠市           NaN           NaN  6.428962e+03\n",
      "\n",
      "[333 rows x 3 columns]\n",
      "./plots/社区医院TOP30城市不同销售状态潜力DOT（百万）柱状图.png has been saved...\n"
     ]
    }
   ],
   "source": [
    "# 社区医院不同省份/城市下分销售状态的潜力值\r\n",
    "pt_cm.plot_pivot_stackedbar(\r\n",
    "    value=\"终端潜力值\", index=\"省份\", column=\"销售状态\", unit_index=\"百万\", aggfunc=sum, y1labelthreshold=2\r\n",
    ") \r\n",
    "pt_cm.plot_pivot_stackedbar(\r\n",
    "    value=\"终端潜力值\", index=\"城市\", column=\"销售状态\", unit_index=\"百万\", top=30, aggfunc=sum, y1labelthreshold=2\r\n",
    ") "
   ]
  },
  {
   "cell_type": "code",
   "execution_count": null,
   "metadata": {},
   "outputs": [],
   "source": [
    "# 不同潜力分位下的医院类型\r\n",
    "pt_total.plot_pivot_stackedbar(\r\n",
    "    value=\"医院名称\", index=\"潜力分位\", column=\"医院类型\", aggfunc=len, percentage=True\r\n",
    ")\r\n",
    "# 社区医院不同潜力分位下的销售状态\r\n",
    "pt_cm.plot_pivot_stackedbar(\r\n",
    "    value=\"医院名称\", index=\"潜力分位\", column=\"销售状态\", aggfunc=len, percentage=True\r\n",
    ") "
   ]
  }
 ],
 "metadata": {
  "interpreter": {
   "hash": "56d5d394b65d2807411288b7a8f71c2f8b50f8ffc173459055e633e451c51c16"
  },
  "kernelspec": {
   "display_name": "Python 3.7.9 64-bit ('.venv': venv)",
   "name": "python3"
  },
  "language_info": {
   "codemirror_mode": {
    "name": "ipython",
    "version": 3
   },
   "file_extension": ".py",
   "mimetype": "text/x-python",
   "name": "python",
   "nbconvert_exporter": "python",
   "pygments_lexer": "ipython3",
   "version": "3.7.9"
  },
  "orig_nbformat": 4
 },
 "nbformat": 4,
 "nbformat_minor": 2
}