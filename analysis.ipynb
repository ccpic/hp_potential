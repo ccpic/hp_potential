{
 "cells": [
  {
   "cell_type": "code",
   "execution_count": 1,
   "metadata": {},
   "outputs": [],
   "source": [
    "import numpy as np\r\n",
    "import pandas as pd\r\n",
    "from dataclass import Potential\r\n",
    "from data_prepare import prepare_data\r\n",
    "\r\n",
    "df = prepare_data()\r\n",
    "pt_total = Potential(df, name=\"公立医院+社区医院\")\r\n",
    "pt_hp = Potential(df[df[\"医院类型\"] == \"公立医院\"], name=\"公立医院\")\r\n",
    "pt_cm = Potential(df[df[\"医院类型\"] == \"社区医院\"], name=\"社区医院\")"
   ]
  },
  {
   "cell_type": "code",
   "execution_count": 2,
   "metadata": {},
   "outputs": [
    {
     "name": "stdout",
     "output_type": "stream",
     "text": [
      "       公立医院  社区医院\n",
      "潜力分位             \n",
      "10       97     1\n",
      "9       165    21\n",
      "8       238    54\n",
      "7       393    81\n",
      "6       529   263\n",
      "5      1056   293\n",
      "4      1528   782\n",
      "3      2274  1613\n",
      "2      3334  3660\n",
      "1     18057  5017\n",
      "./plots/公立医院+社区医院各潜力分位不同医院类型终端数量.png has been saved...\n"
     ]
    }
   ],
   "source": [
    "# 不同潜力分位下的医院类型\r\n",
    "pt_total.plot_pivot_stackedbar(\r\n",
    "    value=\"医院名称\", index=\"潜力分位\", column=\"医院类型\", aggfunc=len, percentage=True\r\n",
    ")"
   ]
  },
  {
   "cell_type": "code",
   "execution_count": 3,
   "metadata": {},
   "outputs": [
    {
     "name": "stdout",
     "output_type": "stream",
     "text": [
      "      有销量目标医院  无销量目标医院   非目标医院\n",
      "潜力分位                          \n",
      "10        1.0      NaN     NaN\n",
      "9        11.0      9.0     1.0\n",
      "8        31.0     22.0     1.0\n",
      "7        46.0     29.0     6.0\n",
      "6       130.0     83.0    50.0\n",
      "5       120.0    120.0    53.0\n",
      "4       206.0    240.0   336.0\n",
      "3       216.0    395.0  1002.0\n",
      "2       448.0    778.0  2434.0\n",
      "1       314.0    445.0  4258.0\n",
      "./plots/社区医院各潜力分位不同销售状态终端数量.png has been saved...\n"
     ]
    }
   ],
   "source": [
    "# 社区医院不同潜力分位下的销售状态\r\n",
    "pt_cm.plot_pivot_stackedbar(\r\n",
    "    value=\"医院名称\", index=\"潜力分位\", column=\"销售状态\", aggfunc=len, percentage=True\r\n",
    ") "
   ]
  },
  {
   "cell_type": "code",
   "execution_count": 4,
   "metadata": {},
   "outputs": [
    {
     "name": "stdout",
     "output_type": "stream",
     "text": [
      "               有销量目标医院       无销量目标医院         非目标医院\n",
      "省份                                                \n",
      "江苏省       5.197249e+07  9.059704e+07  4.406324e+07\n",
      "北京市       9.151544e+07  8.341557e+07  1.015697e+07\n",
      "浙江省       5.687388e+07  6.563864e+07  4.847319e+07\n",
      "上海市       6.316328e+07  2.030581e+07  3.276859e+07\n",
      "广东省       5.730866e+06  1.653858e+07  3.046874e+07\n",
      "山东省       2.255869e+07  9.964654e+06  2.003808e+07\n",
      "福建省       2.927629e+07  5.235901e+06  8.829915e+06\n",
      "河北省       4.244304e+05  1.813595e+06  3.907827e+07\n",
      "四川省       3.654904e+06  5.461310e+06  2.407747e+07\n",
      "湖北省       2.354577e+05  1.312606e+06  2.714352e+07\n",
      "辽宁省                NaN           NaN  2.682517e+07\n",
      "黑龙江省               NaN           NaN  2.659888e+07\n",
      "内蒙古自治区             NaN           NaN  2.157682e+07\n",
      "湖南省       1.978449e+05  5.245042e+04  1.950815e+07\n",
      "天津市       8.768601e+06  7.513492e+06  2.378275e+06\n",
      "河南省       1.539269e+05  3.576222e+04  1.790730e+07\n",
      "山西省       5.998898e+04  5.817721e+04  1.692895e+07\n",
      "重庆市       5.501981e+05  1.272378e+06  1.119529e+07\n",
      "吉林省       7.577797e+04  3.976509e+04  1.136577e+07\n",
      "新疆维吾尔自治区  5.353304e+05  1.077293e+06  9.770849e+06\n",
      "陕西省                NaN           NaN  9.435972e+06\n",
      "江西省       1.928901e+05           NaN  8.776788e+06\n",
      "云南省                NaN           NaN  7.539573e+06\n",
      "安徽省       1.522482e+06  3.048210e+06  2.734225e+06\n",
      "贵州省                NaN           NaN  6.470266e+06\n",
      "广西壮族自治区            NaN  1.055420e+05  6.327731e+06\n",
      "甘肃省                NaN           NaN  5.398086e+06\n",
      "海南省       2.634565e+04  1.586397e+05  1.878709e+06\n",
      "青海省                NaN  3.667642e+04  1.937834e+06\n",
      "宁夏回族自治区   4.912953e+04  2.231510e+05  1.489249e+06\n",
      "西藏自治区              NaN           NaN  1.085755e+06\n",
      "./plots/社区医院各省份不同销售状态潜力DOT（百万）.png has been saved...\n"
     ]
    }
   ],
   "source": [
    "# 社区医院不同省份下分销售状态的潜力值\r\n",
    "pt_cm.plot_pivot_stackedbar(\r\n",
    "    value=\"终端潜力值\", index=\"省份\", column=\"销售状态\", unit_index=\"百万\", aggfunc=sum, y1labelthreshold=2\r\n",
    ") "
   ]
  },
  {
   "cell_type": "code",
   "execution_count": 5,
   "metadata": {},
   "outputs": [
    {
     "name": "stdout",
     "output_type": "stream",
     "text": [
      "          有销量目标医院       无销量目标医院         非目标医院\n",
      "城市                                           \n",
      "北京市  9.151544e+07  8.341557e+07  1.015697e+07\n",
      "上海市  6.316328e+07  2.030581e+07  3.276859e+07\n",
      "苏州市  1.792742e+07  4.045739e+07  1.543740e+07\n",
      "南京市  2.840077e+07  2.249236e+07  9.734712e+06\n",
      "杭州市  2.989589e+07  1.956586e+07  4.880274e+06\n",
      "..            ...           ...           ...\n",
      "济源市           NaN           NaN  5.320290e+04\n",
      "崇左市           NaN           NaN  4.518508e+04\n",
      "儋州市           NaN  2.337897e+04           NaN\n",
      "滁州市           NaN           NaN  1.290296e+04\n",
      "蚌埠市           NaN           NaN  6.428962e+03\n",
      "\n",
      "[333 rows x 3 columns]\n",
      "./plots/社区医院TOP30城市不同销售状态潜力DOT（百万）.png has been saved...\n"
     ]
    }
   ],
   "source": [
    "# 社区医院不同城市下分销售状态的潜力值\r\n",
    "pt_cm.plot_pivot_stackedbar(\r\n",
    "    value=\"终端潜力值\", index=\"城市\", column=\"销售状态\", unit_index=\"百万\", top=30, aggfunc=sum, y1labelthreshold=2\r\n",
    ") "
   ]
  }
 ],
 "metadata": {
  "interpreter": {
   "hash": "56d5d394b65d2807411288b7a8f71c2f8b50f8ffc173459055e633e451c51c16"
  },
  "kernelspec": {
   "display_name": "Python 3.7.9 64-bit ('.venv': venv)",
   "name": "python3"
  },
  "language_info": {
   "codemirror_mode": {
    "name": "ipython",
    "version": 3
   },
   "file_extension": ".py",
   "mimetype": "text/x-python",
   "name": "python",
   "nbconvert_exporter": "python",
   "pygments_lexer": "ipython3",
   "version": "3.7.9"
  },
  "orig_nbformat": 4
 },
 "nbformat": 4,
 "nbformat_minor": 2
}